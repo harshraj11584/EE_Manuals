{
 "cells": [
  {
   "cell_type": "code",
   "execution_count": 2,
   "metadata": {},
   "outputs": [],
   "source": [
    "from sympy.interactive.printing import init_printing\n",
    "init_printing(use_unicode=False, wrap_line=False)\n",
    "from sympy.matrices import Matrix, eye, zeros, ones, diag, GramSchmidt\n",
    "from sympy import Symbol,symarray,Derivative,diff"
   ]
  },
  {
   "cell_type": "code",
   "execution_count": 3,
   "metadata": {},
   "outputs": [
    {
     "data": {
      "text/latex": [
       "$$\\left[\\begin{matrix}w_{0 0} & w_{0 1}\\\\w_{1 0} & w_{1 1}\\end{matrix}\\right]$$"
      ],
      "text/plain": [
       "[w_0_0  w_0_1]\n",
       "[            ]\n",
       "[w_1_0  w_1_1]"
      ]
     },
     "execution_count": 3,
     "metadata": {},
     "output_type": "execute_result"
    }
   ],
   "source": [
    "W = Matrix(symarray('w', (2, 2)))\n",
    "W"
   ]
  },
  {
   "cell_type": "code",
   "execution_count": 4,
   "metadata": {},
   "outputs": [
    {
     "data": {
      "text/latex": [
       "$$\\left[\\begin{matrix}x_{0 0}\\\\x_{1 0}\\end{matrix}\\right]$$"
      ],
      "text/plain": [
       "[x_0_0]\n",
       "[     ]\n",
       "[x_1_0]"
      ]
     },
     "execution_count": 4,
     "metadata": {},
     "output_type": "execute_result"
    }
   ],
   "source": [
    "x = Matrix(symarray('x', (2, 1)))\n",
    "x"
   ]
  },
  {
   "cell_type": "code",
   "execution_count": 16,
   "metadata": {},
   "outputs": [
    {
     "data": {
      "text/latex": [
       "$$\\left[\\begin{matrix}y_{0 0}\\\\y_{1 0}\\end{matrix}\\right]$$"
      ],
      "text/plain": [
       "[y_0_0]\n",
       "[     ]\n",
       "[y_1_0]"
      ]
     },
     "execution_count": 16,
     "metadata": {},
     "output_type": "execute_result"
    }
   ],
   "source": [
    "y = Matrix(symarray('y', (2, 1)))\n",
    "y"
   ]
  },
  {
   "cell_type": "code",
   "execution_count": 11,
   "metadata": {},
   "outputs": [
    {
     "data": {
      "text/latex": [
       "$$\\left[\\begin{matrix}b_{0 0}\\\\b_{1 0}\\end{matrix}\\right]$$"
      ],
      "text/plain": [
       "[b_0_0]\n",
       "[     ]\n",
       "[b_1_0]"
      ]
     },
     "execution_count": 11,
     "metadata": {},
     "output_type": "execute_result"
    }
   ],
   "source": [
    "b = Matrix(symarray('b', (2, 1)))\n",
    "b"
   ]
  },
  {
   "cell_type": "code",
   "execution_count": 5,
   "metadata": {},
   "outputs": [
    {
     "data": {
      "text/latex": [
       "$$\\left[\\begin{matrix}w_{0 0} x_{0 0} + w_{0 1} x_{1 0}\\\\w_{1 0} x_{0 0} + w_{1 1} x_{1 0}\\end{matrix}\\right]$$"
      ],
      "text/plain": [
       "[w_0_0*x_0_0 + w_0_1*x_1_0]\n",
       "[                         ]\n",
       "[w_1_0*x_0_0 + w_1_1*x_1_0]"
      ]
     },
     "execution_count": 5,
     "metadata": {},
     "output_type": "execute_result"
    }
   ],
   "source": [
    "W@x"
   ]
  },
  {
   "cell_type": "code",
   "execution_count": 6,
   "metadata": {},
   "outputs": [
    {
     "data": {
      "text/latex": [
       "$$\\left[\\begin{matrix}\\left[\\begin{matrix}x_{0 0}\\\\0\\end{matrix}\\right] & \\left[\\begin{matrix}x_{1 0}\\\\0\\end{matrix}\\right]\\\\\\left[\\begin{matrix}0\\\\x_{0 0}\\end{matrix}\\right] & \\left[\\begin{matrix}0\\\\x_{1 0}\\end{matrix}\\right]\\end{matrix}\\right]$$"
      ],
      "text/plain": [
       "[[x_0_0]  [x_1_0]]\n",
       "[[     ]  [     ]]\n",
       "[[  0  ]  [  0  ]]\n",
       "[                ]\n",
       "[[  0  ]  [  0  ]]\n",
       "[[     ]  [     ]]\n",
       "[[x_0_0]  [x_1_0]]"
      ]
     },
     "execution_count": 6,
     "metadata": {},
     "output_type": "execute_result"
    }
   ],
   "source": [
    "diff(W@x,W)"
   ]
  },
  {
   "cell_type": "code",
   "execution_count": 10,
   "metadata": {},
   "outputs": [
    {
     "data": {
      "text/latex": [
       "$$\\left[\\begin{matrix}x_{0 0} \\left(w_{0 0} \\left(w_{0 0} x_{0 0} + w_{0 1} x_{1 0}\\right) + w_{1 0} \\left(w_{1 0} x_{0 0} + w_{1 1} x_{1 0}\\right)\\right) + x_{1 0} \\left(w_{0 1} \\left(w_{0 0} x_{0 0} + w_{0 1} x_{1 0}\\right) + w_{1 1} \\left(w_{1 0} x_{0 0} + w_{1 1} x_{1 0}\\right)\\right)\\end{matrix}\\right]$$"
      ],
      "text/plain": [
       "[x_0_0*(w_0_0*(w_0_0*x_0_0 + w_0_1*x_1_0) + w_1_0*(w_1_0*x_0_0 + w_1_1*x_1_0)) + x_1_0*(w_0_1*(w_0_0*x_0_0 + w_0_1*x_1_0) + w_1_1*(w_1_0*x_0_0 + w_1_1*x_1_0))]"
      ]
     },
     "execution_count": 10,
     "metadata": {},
     "output_type": "execute_result"
    }
   ],
   "source": [
    "x.T@W.T@W@x"
   ]
  },
  {
   "cell_type": "code",
   "execution_count": 13,
   "metadata": {},
   "outputs": [
    {
     "data": {
      "text/latex": [
       "$$\\left[\\begin{matrix}\\left[\\left[\\begin{matrix}2 x_{0 0} \\left(b_{0 0} + w_{0 0} x_{0 0} + w_{0 1} x_{1 0}\\right)\\end{matrix}\\right]\\right] & \\left[\\left[\\begin{matrix}2 x_{1 0} \\left(b_{0 0} + w_{0 0} x_{0 0} + w_{0 1} x_{1 0}\\right)\\end{matrix}\\right]\\right]\\\\\\left[\\left[\\begin{matrix}2 x_{0 0} \\left(b_{1 0} + w_{1 0} x_{0 0} + w_{1 1} x_{1 0}\\right)\\end{matrix}\\right]\\right] & \\left[\\left[\\begin{matrix}2 x_{1 0} \\left(b_{1 0} + w_{1 0} x_{0 0} + w_{1 1} x_{1 0}\\right)\\end{matrix}\\right]\\right]\\end{matrix}\\right]$$"
      ],
      "text/plain": [
       "[[[2*x_0_0*(b_0_0 + w_0_0*x_0_0 + w_0_1*x_1_0)]]  [[2*x_1_0*(b_0_0 + w_0_0*x_0_0 + w_0_1*x_1_0)]]]\n",
       "[                                                                                                ]\n",
       "[[[2*x_0_0*(b_1_0 + w_1_0*x_0_0 + w_1_1*x_1_0)]]  [[2*x_1_0*(b_1_0 + w_1_0*x_0_0 + w_1_1*x_1_0)]]]"
      ]
     },
     "execution_count": 13,
     "metadata": {},
     "output_type": "execute_result"
    }
   ],
   "source": [
    "diff( ((W@x+b).T@(W@x+b)),W)"
   ]
  },
  {
   "cell_type": "code",
   "execution_count": 14,
   "metadata": {},
   "outputs": [
    {
     "data": {
      "text/latex": [
       "$$\\left[\\begin{matrix}x_{0 0} \\left(2 b_{0 0} + 2 w_{0 0} x_{0 0} + 2 w_{0 1} x_{1 0}\\right) & x_{1 0} \\left(2 b_{0 0} + 2 w_{0 0} x_{0 0} + 2 w_{0 1} x_{1 0}\\right)\\\\x_{0 0} \\left(2 b_{1 0} + 2 w_{1 0} x_{0 0} + 2 w_{1 1} x_{1 0}\\right) & x_{1 0} \\left(2 b_{1 0} + 2 w_{1 0} x_{0 0} + 2 w_{1 1} x_{1 0}\\right)\\end{matrix}\\right]$$"
      ],
      "text/plain": [
       "[x_0_0*(2*b_0_0 + 2*w_0_0*x_0_0 + 2*w_0_1*x_1_0)  x_1_0*(2*b_0_0 + 2*w_0_0*x_0_0 + 2*w_0_1*x_1_0)]\n",
       "[                                                                                                ]\n",
       "[x_0_0*(2*b_1_0 + 2*w_1_0*x_0_0 + 2*w_1_1*x_1_0)  x_1_0*(2*b_1_0 + 2*w_1_0*x_0_0 + 2*w_1_1*x_1_0)]"
      ]
     },
     "execution_count": 14,
     "metadata": {},
     "output_type": "execute_result"
    }
   ],
   "source": [
    "2*(W@x+b)@x.T"
   ]
  },
  {
   "cell_type": "code",
   "execution_count": 17,
   "metadata": {},
   "outputs": [
    {
     "data": {
      "text/latex": [
       "$$\\left[\\begin{matrix}\\left[\\left[\\begin{matrix}- 2 x_{0 0} \\left(- b_{0 0} - w_{0 0} x_{0 0} - w_{0 1} x_{1 0} + y_{0 0}\\right)\\end{matrix}\\right]\\right] & \\left[\\left[\\begin{matrix}- 2 x_{1 0} \\left(- b_{0 0} - w_{0 0} x_{0 0} - w_{0 1} x_{1 0} + y_{0 0}\\right)\\end{matrix}\\right]\\right]\\\\\\left[\\left[\\begin{matrix}- 2 x_{0 0} \\left(- b_{1 0} - w_{1 0} x_{0 0} - w_{1 1} x_{1 0} + y_{1 0}\\right)\\end{matrix}\\right]\\right] & \\left[\\left[\\begin{matrix}- 2 x_{1 0} \\left(- b_{1 0} - w_{1 0} x_{0 0} - w_{1 1} x_{1 0} + y_{1 0}\\right)\\end{matrix}\\right]\\right]\\end{matrix}\\right]$$"
      ],
      "text/plain": [
       "[[[-2*x_0_0*(-b_0_0 - w_0_0*x_0_0 - w_0_1*x_1_0 + y_0_0)]]  [[-2*x_1_0*(-b_0_0 - w_0_0*x_0_0 - w_0_1*x_1_0 + y_0_0)]]]\n",
       "[                                                                                                                    ]\n",
       "[[[-2*x_0_0*(-b_1_0 - w_1_0*x_0_0 - w_1_1*x_1_0 + y_1_0)]]  [[-2*x_1_0*(-b_1_0 - w_1_0*x_0_0 - w_1_1*x_1_0 + y_1_0)]]]"
      ]
     },
     "execution_count": 17,
     "metadata": {},
     "output_type": "execute_result"
    }
   ],
   "source": [
    "yc= W@x+b\n",
    "diff( (y-yc).T@(y-yc), W )"
   ]
  },
  {
   "cell_type": "code",
   "execution_count": 20,
   "metadata": {},
   "outputs": [
    {
     "data": {
      "text/latex": [
       "$$\\left[\\begin{matrix}x_{0 0} \\left(2 b_{0 0} + 2 w_{0 0} x_{0 0} + 2 w_{0 1} x_{1 0} - 2 y_{0 0}\\right) & x_{1 0} \\left(2 b_{0 0} + 2 w_{0 0} x_{0 0} + 2 w_{0 1} x_{1 0} - 2 y_{0 0}\\right)\\\\x_{0 0} \\left(2 b_{1 0} + 2 w_{1 0} x_{0 0} + 2 w_{1 1} x_{1 0} - 2 y_{1 0}\\right) & x_{1 0} \\left(2 b_{1 0} + 2 w_{1 0} x_{0 0} + 2 w_{1 1} x_{1 0} - 2 y_{1 0}\\right)\\end{matrix}\\right]$$"
      ],
      "text/plain": [
       "[x_0_0*(2*b_0_0 + 2*w_0_0*x_0_0 + 2*w_0_1*x_1_0 - 2*y_0_0)  x_1_0*(2*b_0_0 + 2*w_0_0*x_0_0 + 2*w_0_1*x_1_0 - 2*y_0_0)]\n",
       "[                                                                                                                    ]\n",
       "[x_0_0*(2*b_1_0 + 2*w_1_0*x_0_0 + 2*w_1_1*x_1_0 - 2*y_1_0)  x_1_0*(2*b_1_0 + 2*w_1_0*x_0_0 + 2*w_1_1*x_1_0 - 2*y_1_0)]"
      ]
     },
     "execution_count": 20,
     "metadata": {},
     "output_type": "execute_result"
    }
   ],
   "source": [
    "-2*(y-yc)@x.T"
   ]
  },
  {
   "cell_type": "code",
   "execution_count": 22,
   "metadata": {},
   "outputs": [
    {
     "data": {
      "text/latex": [
       "$$\\left[\\begin{matrix}\\left[\\left[\\begin{matrix}y_{0 0}\\end{matrix}\\right]\\right]\\\\\\left[\\left[\\begin{matrix}y_{1 0}\\end{matrix}\\right]\\right]\\end{matrix}\\right]$$"
      ],
      "text/plain": [
       "[[[y_0_0]]]\n",
       "[         ]\n",
       "[[[y_1_0]]]"
      ]
     },
     "execution_count": 22,
     "metadata": {},
     "output_type": "execute_result"
    }
   ],
   "source": [
    "diff(y.T@b,b)"
   ]
  },
  {
   "cell_type": "code",
   "execution_count": 23,
   "metadata": {},
   "outputs": [
    {
     "data": {
      "text/latex": [
       "$$\\left[\\begin{matrix}\\left[\\left[\\begin{matrix}2 b_{0 0}\\end{matrix}\\right]\\right]\\\\\\left[\\left[\\begin{matrix}2 b_{1 0}\\end{matrix}\\right]\\right]\\end{matrix}\\right]$$"
      ],
      "text/plain": [
       "[[[2*b_0_0]]]\n",
       "[           ]\n",
       "[[[2*b_1_0]]]"
      ]
     },
     "execution_count": 23,
     "metadata": {},
     "output_type": "execute_result"
    }
   ],
   "source": [
    "diff(b.T@b,b)"
   ]
  },
  {
   "cell_type": "code",
   "execution_count": 24,
   "metadata": {},
   "outputs": [
    {
     "data": {
      "text/latex": [
       "$$\\left[\\begin{matrix}\\left[\\left[\\begin{matrix}2 b_{0 0} + 2 w_{0 0} x_{0 0} + 2 w_{0 1} x_{1 0}\\end{matrix}\\right]\\right]\\\\\\left[\\left[\\begin{matrix}2 b_{1 0} + 2 w_{1 0} x_{0 0} + 2 w_{1 1} x_{1 0}\\end{matrix}\\right]\\right]\\end{matrix}\\right]$$"
      ],
      "text/plain": [
       "[[[2*b_0_0 + 2*w_0_0*x_0_0 + 2*w_0_1*x_1_0]]]\n",
       "[                                           ]\n",
       "[[[2*b_1_0 + 2*w_1_0*x_0_0 + 2*w_1_1*x_1_0]]]"
      ]
     },
     "execution_count": 24,
     "metadata": {},
     "output_type": "execute_result"
    }
   ],
   "source": [
    "diff( ((W@x+b).T@(W@x+b)),b)"
   ]
  },
  {
   "cell_type": "code",
   "execution_count": 25,
   "metadata": {},
   "outputs": [
    {
     "data": {
      "text/latex": [
       "$$\\left[\\begin{matrix}\\left[\\left[\\begin{matrix}2 b_{0 0} + 2 w_{0 0} x_{0 0} + 2 w_{0 1} x_{1 0} - 2 y_{0 0}\\end{matrix}\\right]\\right]\\\\\\left[\\left[\\begin{matrix}2 b_{1 0} + 2 w_{1 0} x_{0 0} + 2 w_{1 1} x_{1 0} - 2 y_{1 0}\\end{matrix}\\right]\\right]\\end{matrix}\\right]$$"
      ],
      "text/plain": [
       "[[[2*b_0_0 + 2*w_0_0*x_0_0 + 2*w_0_1*x_1_0 - 2*y_0_0]]]\n",
       "[                                                     ]\n",
       "[[[2*b_1_0 + 2*w_1_0*x_0_0 + 2*w_1_1*x_1_0 - 2*y_1_0]]]"
      ]
     },
     "execution_count": 25,
     "metadata": {},
     "output_type": "execute_result"
    }
   ],
   "source": [
    "diff( (y-yc).T@(y-yc), b )"
   ]
  },
  {
   "cell_type": "code",
   "execution_count": 26,
   "metadata": {},
   "outputs": [
    {
     "data": {
      "text/latex": [
       "$$\\left[\\begin{matrix}2 b_{0 0} + 2 w_{0 0} x_{0 0} + 2 w_{0 1} x_{1 0} - 2 y_{0 0}\\\\2 b_{1 0} + 2 w_{1 0} x_{0 0} + 2 w_{1 1} x_{1 0} - 2 y_{1 0}\\end{matrix}\\right]$$"
      ],
      "text/plain": [
       "[2*b_0_0 + 2*w_0_0*x_0_0 + 2*w_0_1*x_1_0 - 2*y_0_0]\n",
       "[                                                 ]\n",
       "[2*b_1_0 + 2*w_1_0*x_0_0 + 2*w_1_1*x_1_0 - 2*y_1_0]"
      ]
     },
     "execution_count": 26,
     "metadata": {},
     "output_type": "execute_result"
    }
   ],
   "source": [
    "-2*(y-yc)"
   ]
  },
  {
   "cell_type": "code",
   "execution_count": 27,
   "metadata": {},
   "outputs": [
    {
     "data": {
      "text/latex": [
       "$$\\left[\\begin{matrix}\\left[\\left[\\begin{matrix}2 x_{0 0}\\end{matrix}\\right]\\right]\\\\\\left[\\left[\\begin{matrix}2 x_{1 0}\\end{matrix}\\right]\\right]\\end{matrix}\\right]$$"
      ],
      "text/plain": [
       "[[[2*x_0_0]]]\n",
       "[           ]\n",
       "[[[2*x_1_0]]]"
      ]
     },
     "execution_count": 27,
     "metadata": {},
     "output_type": "execute_result"
    }
   ],
   "source": [
    "diff(x.T@x,x)"
   ]
  },
  {
   "cell_type": "code",
   "execution_count": 28,
   "metadata": {},
   "outputs": [
    {
     "data": {
      "text/latex": [
       "$$\\left[\\begin{matrix}\\left[\\left[\\begin{matrix}b_{0 0}\\end{matrix}\\right]\\right]\\\\\\left[\\left[\\begin{matrix}b_{1 0}\\end{matrix}\\right]\\right]\\end{matrix}\\right]$$"
      ],
      "text/plain": [
       "[[[b_0_0]]]\n",
       "[         ]\n",
       "[[[b_1_0]]]"
      ]
     },
     "execution_count": 28,
     "metadata": {},
     "output_type": "execute_result"
    }
   ],
   "source": [
    "diff(b.T@x,x)"
   ]
  },
  {
   "cell_type": "code",
   "execution_count": null,
   "metadata": {},
   "outputs": [],
   "source": []
  }
 ],
 "metadata": {
  "kernelspec": {
   "display_name": "Python 3",
   "language": "python",
   "name": "python3"
  },
  "language_info": {
   "codemirror_mode": {
    "name": "ipython",
    "version": 3
   },
   "file_extension": ".py",
   "mimetype": "text/x-python",
   "name": "python",
   "nbconvert_exporter": "python",
   "pygments_lexer": "ipython3",
   "version": "3.7.1"
  }
 },
 "nbformat": 4,
 "nbformat_minor": 2
}
