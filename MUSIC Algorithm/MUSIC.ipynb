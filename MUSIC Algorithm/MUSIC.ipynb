{
 "cells": [
  {
   "cell_type": "code",
   "execution_count": 1,
   "metadata": {},
   "outputs": [],
   "source": [
    "import numpy as np\n",
    "import scipy.signal\n",
    "import matplotlib.pyplot as plt\n",
    "import seaborn as sns\n",
    "import pandas as pd\n",
    "from cmath import e,pi,sin,cos"
   ]
  },
  {
   "cell_type": "markdown",
   "metadata": {},
   "source": [
    "Simulating Narrowband Sources\n",
    "\n",
    "Let :\n",
    "\n",
    "No of Sources = N = 5  \n",
    "No of Recievers = M = 10  \n",
    "No of Time Snapshots of Recieved Signal = p = 100   \n",
    "Frequency of Source = fc = 10^6 Hz   \n",
    "Sampling Frequency at Sensors = fs = 10^7 Hz   \n",
    "(=> Time Values for Snapshots are 1/fs, 2/fs, ... , p/fs)    \n",
    "\n",
    "Source Signal : A * exp(j * 2 * pi * fc * t)     where A ~ Gaussian(0,1)  \n",
    "\n",
    "\n"
   ]
  },
  {
   "cell_type": "code",
   "execution_count": 2,
   "metadata": {},
   "outputs": [],
   "source": [
    "N=5\n",
    "M=10\n",
    "p=100\n",
    "fc=1e6\n",
    "fs=1e7"
   ]
  },
  {
   "cell_type": "markdown",
   "metadata": {},
   "source": [
    "Generating Source Signals"
   ]
  },
  {
   "cell_type": "code",
   "execution_count": 3,
   "metadata": {},
   "outputs": [
    {
     "name": "stdout",
     "output_type": "stream",
     "text": [
      "s=\n",
      " (5, 100)\n"
     ]
    }
   ],
   "source": [
    "#Generating Source Signal : Nxp\n",
    "s = np.zeros((N,p),dtype=complex)\n",
    "for t in np.arange(start=1,stop=p+1):\n",
    "    t_val = t/fs\n",
    "    amp = np.random.multivariate_normal(mean=np.zeros(N),cov=1*np.diag(np.ones(N)))\n",
    "    s[:,t-1] = np.exp(1j*2*pi*fc*t_val)*amp\n",
    "print(\"s=\\n\",s.shape)"
   ]
  },
  {
   "cell_type": "markdown",
   "metadata": {},
   "source": [
    "Getting the Reciever Signals after Effect of Delay (using Steering Matrix) and Mixing with Noise   \n",
    "\n",
    "Assume Incident DOAs are 20,50,85,110,145 degrees respectively for the sources, we will find these values using MUSIC algorithm.\n",
    "\n",
    "Assume signal travels as speed of light = c = 3* 10^8 m/s\n",
    "\n",
    "Assume Reciever Antenas are spaced at d=150 m in a straight line"
   ]
  },
  {
   "cell_type": "code",
   "execution_count": 12,
   "metadata": {},
   "outputs": [
    {
     "name": "stdout",
     "output_type": "stream",
     "text": [
      "A=\n",
      " (10, 5)\n"
     ]
    }
   ],
   "source": [
    "#storing DOAs in radians\n",
    "doa = np.array([20,50,85,110,145])*pi/180\n",
    "\n",
    "c = 3e8\n",
    "d = 150\n",
    "\n",
    "#Steering Vector as a function of theta\n",
    "def a(theta):\n",
    "    a1 = np.exp(-1j*2*pi*fc*d*(np.cos(theta)/c) * np.arange(M) )\n",
    "    return a1.reshape((M,1))\n",
    "#print(a(2))\n",
    "\n",
    "A = np.zeros((M,N),dtype=complex)\n",
    "for i in range(N):\n",
    "    A[:,i] = a(doa[i])[:,0]\n",
    "\n",
    "print(\"A=\\n\",A.shape)"
   ]
  },
  {
   "cell_type": "markdown",
   "metadata": {},
   "source": [
    "Recieved Signal x(t) = A(theta)*s(t) + n(t), where n(t) is White Gaussian Noise for each reciever"
   ]
  },
  {
   "cell_type": "code",
   "execution_count": 13,
   "metadata": {},
   "outputs": [
    {
     "name": "stdout",
     "output_type": "stream",
     "text": [
      "X=\n",
      " (10, 100)\n"
     ]
    }
   ],
   "source": [
    "# X1 = np.zeros((p,M),dtype=complex)\n",
    "# for t in range(p):\n",
    "#     X1[t] = ( A@(s[t].reshape((N,1))) + np.random.normal(loc=0,scale=1,size=(M,1)) ).reshape((M))\n",
    "    \n",
    "# print(\"X1=\\n\",X1.shape)\n",
    "\n",
    "# noise = np.random.normal(loc=0,scale=1,size=(M,1))\n",
    "noise = np.random.multivariate_normal(mean=np.zeros(M),cov=np.diag(np.ones(M)),size=p).T\n",
    "X = (A@s + noise)\n",
    "print(\"X=\\n\",X.shape)"
   ]
  },
  {
   "cell_type": "markdown",
   "metadata": {},
   "source": [
    "Application of MUSIC Algorithm:   \n",
    "    \n",
    "    When recieved signal data (X), source frequency (fc), no of sources(M), is known, we can find the DOA for each source signal using MUltiple Signal Classification Algorithm. "
   ]
  },
  {
   "cell_type": "code",
   "execution_count": 14,
   "metadata": {},
   "outputs": [
    {
     "name": "stdout",
     "output_type": "stream",
     "text": [
      "emp cov =  (10, 10)\n",
      "eigvals= [14.64255066 12.07169297  9.32253135  8.3474172   6.66493894  1.28216741\n",
      "  0.60300562  1.06407958  0.86838992  0.80960545]\n",
      "[9.32253135 9.32253135 9.32253135 9.32253135 9.32253135 9.32253135\n",
      " 9.32253135 9.32253135 9.32253135 9.32253135]\n"
     ]
    }
   ],
   "source": [
    "#finding covariance matrix of X\n",
    "S = X@X.conj().T/p\n",
    "\n",
    "print(\"emp cov = \",S.shape)\n",
    "\n",
    "#finding eigen values and eigen vectors\n",
    "eigvals, eigvecs = np.linalg.eig(S)\n",
    "eigvals = eigvals.real\n",
    "\n",
    "#finding norm of eigvals so that they can be sorted in decreasing order\n",
    "eignorms = np.abs(eigvals)\n",
    "\n",
    "print(\"eigvals=\",eigvals)\n",
    "\n",
    "#sorting eig vals and eig vecs in decreasing order of eig vals\n",
    "\n",
    "idx = eignorms.argsort()[::-1]   \n",
    "eignorms = eignorms[idx]\n",
    "eigvals = eigvals[idx]\n",
    "eigvecs = eigvecs[:,idx]\n",
    "\n",
    "# idx = eigvals.argsort()[::-1]   \n",
    "# eignorms = eignorms[idx]\n",
    "# eigvals = eigvals[idx]\n",
    "# eigvecs = eigvecs[:,idx]\n",
    "\n",
    "# print(\"eigvals=\",eigvals)\n",
    "# print(\"eigvecs=\\n\",eigvecs)\n",
    "\n",
    "print(np.abs(S@eigvecs[:,2]/eigvecs[:,2]))"
   ]
  },
  {
   "cell_type": "code",
   "execution_count": 15,
   "metadata": {},
   "outputs": [
    {
     "data": {
      "text/plain": [
       "<matplotlib.legend.Legend at 0x7fdd81fd7518>"
      ]
     },
     "execution_count": 15,
     "metadata": {},
     "output_type": "execute_result"
    },
    {
     "data": {
      "image/png": "[encoded data removed]",
      "text/plain": [
       "<Figure size 1296x432 with 1 Axes>"
      ]
     },
     "metadata": {
      "needs_background": "light"
     },
     "output_type": "display_data"
    }
   ],
   "source": [
    "#Plotting Eigen Values\n",
    "\n",
    "fig, ax = plt.subplots(figsize=(18,6))\n",
    "ax.scatter(np.arange(N),eigvals[:N],label=\"N EigVals from Source\")\n",
    "ax.scatter(np.arange(N,M),eigvals[N:],label=\"M-N EigVals from Noise\")\n",
    "plt.legend()"
   ]
  },
  {
   "cell_type": "markdown",
   "metadata": {},
   "source": [
    "See that lower M-N eigen values coming due to noise are almost equal (=lb0), and top N eigen values lbi>lb0"
   ]
  },
  {
   "cell_type": "code",
   "execution_count": 16,
   "metadata": {},
   "outputs": [
    {
     "name": "stdout",
     "output_type": "stream",
     "text": [
      "(10, 5)\n",
      "(10, 5)\n"
     ]
    }
   ],
   "source": [
    "#separating source and noise eigvectors\n",
    "Us, Un = eigvecs[:,:N], eigvecs[:,N:]\n",
    "print(Us.shape)\n",
    "print(Un.shape)"
   ]
  },
  {
   "cell_type": "code",
   "execution_count": 17,
   "metadata": {},
   "outputs": [
    {
     "name": "stdout",
     "output_type": "stream",
     "text": [
      "(0.31105344205684204+2.1483757842812687e-17j)\n"
     ]
    }
   ],
   "source": [
    "def P_MU(theta):\n",
    "#     print(a(theta).conj().T.shape)\n",
    "#     print(Us.shape)\n",
    "#     print(np.linalg.norm(a(theta).conj().T@Un))\n",
    "    return(1/(a(theta).conj().T@Un@Un.conj().T@a(theta)))[0,0]\n",
    "    \n",
    "print(P_MU(2))"
   ]
  },
  {
   "cell_type": "code",
   "execution_count": 18,
   "metadata": {},
   "outputs": [
    {
     "name": "stdout",
     "output_type": "stream",
     "text": [
      "(181,)\n",
      "doas= [ 20.  50.  85. 110. 145.]\n",
      "amps= [ 0.91485181 -0.34802287  0.70692032 -1.24343434 -0.27870137]\n"
     ]
    }
   ],
   "source": [
    "#searching for all possible theta\n",
    "theta_vals = np.arange(0,181,1)\n",
    "P_MU_vals = np.array([P_MU(val*pi/180.0) for val in theta_vals]).real\n",
    "print(P_MU_vals.shape)\n",
    "\n",
    "print(\"doas=\",doa*180/pi)\n",
    "print(\"amps=\",amp)"
   ]
  },
  {
   "cell_type": "code",
   "execution_count": 19,
   "metadata": {},
   "outputs": [
    {
     "data": {
      "image/png": "[encoded data removed]",
      "text/plain": [
       "<Figure size 1296x432 with 1 Axes>"
      ]
     },
     "metadata": {
      "needs_background": "light"
     },
     "output_type": "display_data"
    }
   ],
   "source": [
    "fig, ax = plt.subplots(figsize=(18,6))\n",
    "plt.plot(np.abs(theta_vals),P_MU_vals)\n",
    "plt.xticks(np.arange(0, 181, 10))\n",
    "plt.grid()"
   ]
  },
  {
   "cell_type": "code",
   "execution_count": 24,
   "metadata": {},
   "outputs": [
    {
     "name": "stdout",
     "output_type": "stream",
     "text": [
      "[ 20  50  86 111 146]\n"
     ]
    }
   ],
   "source": [
    "peak_indices = scipy.signal.find_peaks_cwt(vector=P_MU_vals, widths = 5*np.ones(len(P_MU_vals)), gap_thresh=None, min_length=None, min_snr=3, noise_perc=1)\n",
    "print(theta_vals[peak_indices])"
   ]
  },
  {
   "cell_type": "code",
   "execution_count": null,
   "metadata": {},
   "outputs": [],
   "source": []
  }
 ],
 "metadata": {
  "kernelspec": {
   "display_name": "Python 3",
   "language": "python",
   "name": "python3"
  },
  "language_info": {
   "codemirror_mode": {
    "name": "ipython",
    "version": 3
   },
   "file_extension": ".py",
   "mimetype": "text/x-python",
   "name": "python",
   "nbconvert_exporter": "python",
   "pygments_lexer": "ipython3",
   "version": "3.7.1"
  }
 },
 "nbformat": 4,
 "nbformat_minor": 2
}
