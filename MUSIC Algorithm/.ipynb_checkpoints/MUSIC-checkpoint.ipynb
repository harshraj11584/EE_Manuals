{
 "cells": [
  {
   "cell_type": "code",
   "execution_count": 43,
   "metadata": {},
   "outputs": [],
   "source": [
    "import numpy as np\n",
    "import matplotlib.pyplot as plt\n",
    "import seaborn as sns\n",
    "import pandas as pd"
   ]
  },
  {
   "cell_type": "code",
   "execution_count": 44,
   "metadata": {},
   "outputs": [],
   "source": [
    "d = 2.0\n",
    "c = 340.0\n",
    "N = 10\n",
    "I = 5"
   ]
  },
  {
   "cell_type": "code",
   "execution_count": 45,
   "metadata": {},
   "outputs": [
    {
     "name": "stdout",
     "output_type": "stream",
     "text": [
      "X=\n",
      " [[ 348  340  -71 ...  214 -164  270]\n",
      " [ 374  321 -101 ...  257 -192  293]\n",
      " [ 386  301 -126 ...  283 -206  308]\n",
      " ...\n",
      " [-179   35  208 ... -125  177 -155]\n",
      " [-171   55  213 ... -121  158 -142]\n",
      " [-159   62  217 ... -110  153 -136]]\n",
      "S=\n",
      " [[ 35762.0200982   10972.3205106  -26420.50710013 ...  29578.3118393\n",
      "  -25685.95747554  25614.9535555 ]\n",
      " [ 10972.3205106   32447.66579493  12308.13296555 ...   3763.13448152\n",
      "  -16899.25957342  16431.68621497]\n",
      " [-26420.50710013  12308.13296555  34691.61801203 ... -26598.91651449\n",
      "   13449.86349673 -13120.63684397]\n",
      " ...\n",
      " [ 29578.3118393    3763.13448152 -26598.91651449 ...  29945.49169631\n",
      "  -22886.91323563  21822.92668761]\n",
      " [-25685.95747554 -16899.25957342  13449.86349673 ... -22886.91323563\n",
      "   24553.50522348 -23281.63810996]\n",
      " [ 25614.9535555   16431.68621497 -13120.63684397 ...  21822.92668761\n",
      "  -23281.63810996  22750.91027222]]\n"
     ]
    }
   ],
   "source": [
    "# X = pd.read_csv('caldata32_3.csv').to_numpy()\n",
    "X = pd.read_csv('calipeda1.csv').to_numpy()\n",
    "print(\"X=\\n\",X)\n",
    "\n",
    "S = np.cov(X.T)\n",
    "print(\"S=\\n\",S)"
   ]
  },
  {
   "cell_type": "code",
   "execution_count": 46,
   "metadata": {},
   "outputs": [],
   "source": [
    "eigvals, eigvecs = np.linalg.eig(S)\n",
    "# print(\"eigvals=\",eigvals)\n",
    "# print(\"eigvecs=\\n\",eigvecs)"
   ]
  },
  {
   "cell_type": "code",
   "execution_count": 47,
   "metadata": {},
   "outputs": [
    {
     "name": "stdout",
     "output_type": "stream",
     "text": [
      "eigvals= [5.19303962e+05 3.96715528e+05 9.81607359e+03 4.66221112e+03\n",
      " 3.63255398e+03 3.20709359e+03 1.60937736e+03 1.09061427e+03\n",
      " 3.96803498e+02 2.84033436e+02 2.39989235e+02 1.94647161e+02\n",
      " 1.19977943e+02 1.03318159e+02 9.25506729e+01 7.27631037e+01\n",
      " 5.93801975e+01 4.71319954e+01 4.28050176e+01 3.91363072e+01\n",
      " 3.65021152e+01 3.41524935e+01 3.14543413e+01 2.64011716e+01\n",
      " 2.08252711e+01 1.99785024e+01 1.92315554e+01 1.86016993e+01\n",
      " 1.70308539e+01 1.63629367e+01 1.55784414e+01 1.35425124e+01]\n",
      "eigvecs=\n",
      " [[-2.51096055e-01  2.01282918e-02 -4.77532988e-01 ... -3.13662626e-01\n",
      "  -2.03987796e-01  2.68739096e-02]\n",
      " [-9.34803371e-02 -2.59593641e-01 -1.71718404e-01 ...  1.15174517e-01\n",
      "  -1.17615457e-01  1.74212550e-01]\n",
      " [ 1.80562845e-01 -2.07250815e-01  1.85235305e-01 ... -3.14731103e-01\n",
      "   8.44570018e-02  2.11034647e-01]\n",
      " ...\n",
      " [-2.29240839e-01  6.68314985e-02  1.39288924e-01 ... -3.46397039e-01\n",
      "   8.58548375e-02  1.83504573e-02]\n",
      " [ 2.06197215e-01  6.87125240e-02 -3.76207592e-02 ... -3.60983095e-03\n",
      "  -8.98994040e-02  5.59520175e-02]\n",
      " [-1.97865100e-01 -6.76754633e-02 -1.39805720e-01 ...  1.34234031e-01\n",
      "  -3.33449719e-06  1.32833154e-01]]\n"
     ]
    }
   ],
   "source": [
    "#Sorting eigvals and eigvecs from largest to smallest\n",
    "\n",
    "idx = eigvals.argsort()[::-1]   \n",
    "eigvals = eigvals[idx]\n",
    "eigvecs = eigvecs[:,idx]\n",
    "print(\"eigvals=\",eigvals)\n",
    "print(\"eigvecs=\\n\",eigvecs)"
   ]
  },
  {
   "cell_type": "code",
   "execution_count": 40,
   "metadata": {},
   "outputs": [
    {
     "data": {
      "text/plain": [
       "(array([24.,  2.,  0.,  2.,  1.,  0.,  0.,  0.,  0.,  1.,  0.,  0.,  0.,\n",
       "         0.,  0.,  0.,  0.,  0.,  0.,  0.,  0.,  0.,  0.,  0.,  0.,  0.,\n",
       "         0.,  0.,  0.,  0.,  0.,  0.,  0.,  0.,  0.,  0.,  0.,  0.,  0.,\n",
       "         0.,  0.,  0.,  0.,  0.,  0.,  0.,  0.,  0.,  0.,  0.,  0.,  0.,\n",
       "         0.,  0.,  0.,  0.,  0.,  0.,  0.,  0.,  0.,  0.,  0.,  0.,  0.,\n",
       "         0.,  0.,  0.,  0.,  0.,  0.,  0.,  0.,  0.,  0.,  0.,  0.,  0.,\n",
       "         0.,  0.,  0.,  0.,  0.,  0.,  0.,  0.,  0.,  0.,  0.,  0.,  0.,\n",
       "         0.,  0.,  0.,  0.,  0.,  0.,  0.,  0.,  0.,  0.,  0.,  0.,  0.,\n",
       "         0.,  0.,  0.,  0.,  0.,  0.,  0.,  0.,  0.,  0.,  0.,  0.,  0.,\n",
       "         0.,  0.,  0.,  0.,  0.,  0.,  0.,  0.,  0.,  0.,  0.,  0.,  0.,\n",
       "         0.,  0.,  0.,  0.,  0.,  0.,  0.,  0.,  0.,  0.,  0.,  0.,  0.,\n",
       "         0.,  0.,  0.,  0.,  0.,  0.,  0.,  0.,  0.,  0.,  0.,  0.,  0.,\n",
       "         0.,  0.,  0.,  0.,  0.,  0.,  0.,  0.,  0.,  0.,  0.,  0.,  0.,\n",
       "         0.,  0.,  0.,  0.,  0.,  0.,  0.,  0.,  0.,  0.,  0.,  0.,  0.,\n",
       "         0.,  0.,  0.,  0.,  0.,  0.,  0.,  0.,  0.,  0.,  0.,  0.,  0.,\n",
       "         0.,  0.,  0.,  0.,  0.,  0.,  0.,  0.,  0.,  0.,  0.,  0.,  0.,\n",
       "         0.,  0.,  0.,  0.,  0.,  0.,  0.,  0.,  0.,  0.,  0.,  0.,  0.,\n",
       "         0.,  0.,  0.,  0.,  0.,  0.,  0.,  0.,  0.,  0.,  0.,  0.,  0.,\n",
       "         0.,  0.,  0.,  0.,  0.,  0.,  0.,  0.,  0.,  0.,  0.,  0.,  0.,\n",
       "         0.,  0.,  0.,  0.,  0.,  0.,  0.,  0.,  0.,  0.,  0.,  0.,  0.,\n",
       "         0.,  0.,  0.,  0.,  0.,  0.,  0.,  0.,  0.,  0.,  0.,  0.,  0.,\n",
       "         0.,  0.,  0.,  0.,  0.,  0.,  0.,  0.,  0.,  0.,  0.,  0.,  0.,\n",
       "         0.,  0.,  0.,  0.,  0.,  0.,  0.,  0.,  0.,  0.,  0.,  0.,  0.,\n",
       "         0.,  0.,  0.,  0.,  0.,  0.,  0.,  0.,  0.,  0.,  0.,  0.,  0.,\n",
       "         0.,  0.,  0.,  0.,  0.,  0.,  0.,  0.,  0.,  0.,  0.,  0.,  0.,\n",
       "         0.,  0.,  0.,  0.,  0.,  0.,  0.,  0.,  0.,  0.,  0.,  0.,  0.,\n",
       "         0.,  0.,  0.,  0.,  0.,  0.,  0.,  0.,  0.,  0.,  0.,  0.,  0.,\n",
       "         0.,  0.,  0.,  0.,  0.,  0.,  0.,  0.,  0.,  0.,  0.,  0.,  0.,\n",
       "         0.,  0.,  0.,  0.,  0.,  0.,  0.,  0.,  0.,  0.,  0.,  0.,  0.,\n",
       "         0.,  0.,  0.,  0.,  1.,  0.,  0.,  0.,  0.,  0.,  0.,  0.,  0.,\n",
       "         0.,  0.,  0.,  0.,  0.,  0.,  0.,  0.,  0.,  0.,  0.,  0.,  0.,\n",
       "         0.,  0.,  0.,  0.,  0.,  0.,  0.,  0.,  0.,  0.,  0.,  0.,  0.,\n",
       "         0.,  0.,  0.,  0.,  0.,  0.,  0.,  0.,  0.,  0.,  0.,  0.,  0.,\n",
       "         0.,  0.,  0.,  0.,  0.,  0.,  0.,  0.,  0.,  0.,  0.,  0.,  0.,\n",
       "         0.,  0.,  0.,  0.,  0.,  0.,  0.,  0.,  0.,  0.,  0.,  0.,  0.,\n",
       "         0.,  0.,  0.,  0.,  0.,  0.,  0.,  0.,  0.,  0.,  0.,  0.,  0.,\n",
       "         0.,  0.,  0.,  0.,  0.,  0.,  0.,  0.,  0.,  0.,  0.,  0.,  0.,\n",
       "         0.,  0.,  0.,  0.,  0.,  0.,  0.,  0.,  0.,  0.,  0.,  0.,  0.,\n",
       "         0.,  0.,  0.,  0.,  0.,  1.]),\n",
       " array([1.35425124e+01, 1.05212335e+03, 2.09070419e+03, 3.12928503e+03,\n",
       "        4.16786587e+03, 5.20644671e+03, 6.24502755e+03, 7.28360839e+03,\n",
       "        8.32218923e+03, 9.36077007e+03, 1.03993509e+04, 1.14379317e+04,\n",
       "        1.24765126e+04, 1.35150934e+04, 1.45536743e+04, 1.55922551e+04,\n",
       "        1.66308359e+04, 1.76694168e+04, 1.87079976e+04, 1.97465785e+04,\n",
       "        2.07851593e+04, 2.18237401e+04, 2.28623210e+04, 2.39009018e+04,\n",
       "        2.49394827e+04, 2.59780635e+04, 2.70166443e+04, 2.80552252e+04,\n",
       "        2.90938060e+04, 3.01323869e+04, 3.11709677e+04, 3.22095485e+04,\n",
       "        3.32481294e+04, 3.42867102e+04, 3.53252911e+04, 3.63638719e+04,\n",
       "        3.74024527e+04, 3.84410336e+04, 3.94796144e+04, 4.05181953e+04,\n",
       "        4.15567761e+04, 4.25953569e+04, 4.36339378e+04, 4.46725186e+04,\n",
       "        4.57110995e+04, 4.67496803e+04, 4.77882611e+04, 4.88268420e+04,\n",
       "        4.98654228e+04, 5.09040037e+04, 5.19425845e+04, 5.29811653e+04,\n",
       "        5.40197462e+04, 5.50583270e+04, 5.60969079e+04, 5.71354887e+04,\n",
       "        5.81740695e+04, 5.92126504e+04, 6.02512312e+04, 6.12898121e+04,\n",
       "        6.23283929e+04, 6.33669737e+04, 6.44055546e+04, 6.54441354e+04,\n",
       "        6.64827163e+04, 6.75212971e+04, 6.85598779e+04, 6.95984588e+04,\n",
       "        7.06370396e+04, 7.16756205e+04, 7.27142013e+04, 7.37527821e+04,\n",
       "        7.47913630e+04, 7.58299438e+04, 7.68685247e+04, 7.79071055e+04,\n",
       "        7.89456863e+04, 7.99842672e+04, 8.10228480e+04, 8.20614289e+04,\n",
       "        8.31000097e+04, 8.41385905e+04, 8.51771714e+04, 8.62157522e+04,\n",
       "        8.72543330e+04, 8.82929139e+04, 8.93314947e+04, 9.03700756e+04,\n",
       "        9.14086564e+04, 9.24472372e+04, 9.34858181e+04, 9.45243989e+04,\n",
       "        9.55629798e+04, 9.66015606e+04, 9.76401414e+04, 9.86787223e+04,\n",
       "        9.97173031e+04, 1.00755884e+05, 1.01794465e+05, 1.02833046e+05,\n",
       "        1.03871626e+05, 1.04910207e+05, 1.05948788e+05, 1.06987369e+05,\n",
       "        1.08025950e+05, 1.09064531e+05, 1.10103112e+05, 1.11141692e+05,\n",
       "        1.12180273e+05, 1.13218854e+05, 1.14257435e+05, 1.15296016e+05,\n",
       "        1.16334597e+05, 1.17373177e+05, 1.18411758e+05, 1.19450339e+05,\n",
       "        1.20488920e+05, 1.21527501e+05, 1.22566082e+05, 1.23604662e+05,\n",
       "        1.24643243e+05, 1.25681824e+05, 1.26720405e+05, 1.27758986e+05,\n",
       "        1.28797567e+05, 1.29836147e+05, 1.30874728e+05, 1.31913309e+05,\n",
       "        1.32951890e+05, 1.33990471e+05, 1.35029052e+05, 1.36067633e+05,\n",
       "        1.37106213e+05, 1.38144794e+05, 1.39183375e+05, 1.40221956e+05,\n",
       "        1.41260537e+05, 1.42299118e+05, 1.43337698e+05, 1.44376279e+05,\n",
       "        1.45414860e+05, 1.46453441e+05, 1.47492022e+05, 1.48530603e+05,\n",
       "        1.49569183e+05, 1.50607764e+05, 1.51646345e+05, 1.52684926e+05,\n",
       "        1.53723507e+05, 1.54762088e+05, 1.55800668e+05, 1.56839249e+05,\n",
       "        1.57877830e+05, 1.58916411e+05, 1.59954992e+05, 1.60993573e+05,\n",
       "        1.62032154e+05, 1.63070734e+05, 1.64109315e+05, 1.65147896e+05,\n",
       "        1.66186477e+05, 1.67225058e+05, 1.68263639e+05, 1.69302219e+05,\n",
       "        1.70340800e+05, 1.71379381e+05, 1.72417962e+05, 1.73456543e+05,\n",
       "        1.74495124e+05, 1.75533704e+05, 1.76572285e+05, 1.77610866e+05,\n",
       "        1.78649447e+05, 1.79688028e+05, 1.80726609e+05, 1.81765189e+05,\n",
       "        1.82803770e+05, 1.83842351e+05, 1.84880932e+05, 1.85919513e+05,\n",
       "        1.86958094e+05, 1.87996675e+05, 1.89035255e+05, 1.90073836e+05,\n",
       "        1.91112417e+05, 1.92150998e+05, 1.93189579e+05, 1.94228160e+05,\n",
       "        1.95266740e+05, 1.96305321e+05, 1.97343902e+05, 1.98382483e+05,\n",
       "        1.99421064e+05, 2.00459645e+05, 2.01498225e+05, 2.02536806e+05,\n",
       "        2.03575387e+05, 2.04613968e+05, 2.05652549e+05, 2.06691130e+05,\n",
       "        2.07729710e+05, 2.08768291e+05, 2.09806872e+05, 2.10845453e+05,\n",
       "        2.11884034e+05, 2.12922615e+05, 2.13961195e+05, 2.14999776e+05,\n",
       "        2.16038357e+05, 2.17076938e+05, 2.18115519e+05, 2.19154100e+05,\n",
       "        2.20192681e+05, 2.21231261e+05, 2.22269842e+05, 2.23308423e+05,\n",
       "        2.24347004e+05, 2.25385585e+05, 2.26424166e+05, 2.27462746e+05,\n",
       "        2.28501327e+05, 2.29539908e+05, 2.30578489e+05, 2.31617070e+05,\n",
       "        2.32655651e+05, 2.33694231e+05, 2.34732812e+05, 2.35771393e+05,\n",
       "        2.36809974e+05, 2.37848555e+05, 2.38887136e+05, 2.39925716e+05,\n",
       "        2.40964297e+05, 2.42002878e+05, 2.43041459e+05, 2.44080040e+05,\n",
       "        2.45118621e+05, 2.46157202e+05, 2.47195782e+05, 2.48234363e+05,\n",
       "        2.49272944e+05, 2.50311525e+05, 2.51350106e+05, 2.52388687e+05,\n",
       "        2.53427267e+05, 2.54465848e+05, 2.55504429e+05, 2.56543010e+05,\n",
       "        2.57581591e+05, 2.58620172e+05, 2.59658752e+05, 2.60697333e+05,\n",
       "        2.61735914e+05, 2.62774495e+05, 2.63813076e+05, 2.64851657e+05,\n",
       "        2.65890237e+05, 2.66928818e+05, 2.67967399e+05, 2.69005980e+05,\n",
       "        2.70044561e+05, 2.71083142e+05, 2.72121723e+05, 2.73160303e+05,\n",
       "        2.74198884e+05, 2.75237465e+05, 2.76276046e+05, 2.77314627e+05,\n",
       "        2.78353208e+05, 2.79391788e+05, 2.80430369e+05, 2.81468950e+05,\n",
       "        2.82507531e+05, 2.83546112e+05, 2.84584693e+05, 2.85623273e+05,\n",
       "        2.86661854e+05, 2.87700435e+05, 2.88739016e+05, 2.89777597e+05,\n",
       "        2.90816178e+05, 2.91854758e+05, 2.92893339e+05, 2.93931920e+05,\n",
       "        2.94970501e+05, 2.96009082e+05, 2.97047663e+05, 2.98086244e+05,\n",
       "        2.99124824e+05, 3.00163405e+05, 3.01201986e+05, 3.02240567e+05,\n",
       "        3.03279148e+05, 3.04317729e+05, 3.05356309e+05, 3.06394890e+05,\n",
       "        3.07433471e+05, 3.08472052e+05, 3.09510633e+05, 3.10549214e+05,\n",
       "        3.11587794e+05, 3.12626375e+05, 3.13664956e+05, 3.14703537e+05,\n",
       "        3.15742118e+05, 3.16780699e+05, 3.17819279e+05, 3.18857860e+05,\n",
       "        3.19896441e+05, 3.20935022e+05, 3.21973603e+05, 3.23012184e+05,\n",
       "        3.24050765e+05, 3.25089345e+05, 3.26127926e+05, 3.27166507e+05,\n",
       "        3.28205088e+05, 3.29243669e+05, 3.30282250e+05, 3.31320830e+05,\n",
       "        3.32359411e+05, 3.33397992e+05, 3.34436573e+05, 3.35475154e+05,\n",
       "        3.36513735e+05, 3.37552315e+05, 3.38590896e+05, 3.39629477e+05,\n",
       "        3.40668058e+05, 3.41706639e+05, 3.42745220e+05, 3.43783800e+05,\n",
       "        3.44822381e+05, 3.45860962e+05, 3.46899543e+05, 3.47938124e+05,\n",
       "        3.48976705e+05, 3.50015286e+05, 3.51053866e+05, 3.52092447e+05,\n",
       "        3.53131028e+05, 3.54169609e+05, 3.55208190e+05, 3.56246771e+05,\n",
       "        3.57285351e+05, 3.58323932e+05, 3.59362513e+05, 3.60401094e+05,\n",
       "        3.61439675e+05, 3.62478256e+05, 3.63516836e+05, 3.64555417e+05,\n",
       "        3.65593998e+05, 3.66632579e+05, 3.67671160e+05, 3.68709741e+05,\n",
       "        3.69748321e+05, 3.70786902e+05, 3.71825483e+05, 3.72864064e+05,\n",
       "        3.73902645e+05, 3.74941226e+05, 3.75979806e+05, 3.77018387e+05,\n",
       "        3.78056968e+05, 3.79095549e+05, 3.80134130e+05, 3.81172711e+05,\n",
       "        3.82211292e+05, 3.83249872e+05, 3.84288453e+05, 3.85327034e+05,\n",
       "        3.86365615e+05, 3.87404196e+05, 3.88442777e+05, 3.89481357e+05,\n",
       "        3.90519938e+05, 3.91558519e+05, 3.92597100e+05, 3.93635681e+05,\n",
       "        3.94674262e+05, 3.95712842e+05, 3.96751423e+05, 3.97790004e+05,\n",
       "        3.98828585e+05, 3.99867166e+05, 4.00905747e+05, 4.01944327e+05,\n",
       "        4.02982908e+05, 4.04021489e+05, 4.05060070e+05, 4.06098651e+05,\n",
       "        4.07137232e+05, 4.08175813e+05, 4.09214393e+05, 4.10252974e+05,\n",
       "        4.11291555e+05, 4.12330136e+05, 4.13368717e+05, 4.14407298e+05,\n",
       "        4.15445878e+05, 4.16484459e+05, 4.17523040e+05, 4.18561621e+05,\n",
       "        4.19600202e+05, 4.20638783e+05, 4.21677363e+05, 4.22715944e+05,\n",
       "        4.23754525e+05, 4.24793106e+05, 4.25831687e+05, 4.26870268e+05,\n",
       "        4.27908848e+05, 4.28947429e+05, 4.29986010e+05, 4.31024591e+05,\n",
       "        4.32063172e+05, 4.33101753e+05, 4.34140334e+05, 4.35178914e+05,\n",
       "        4.36217495e+05, 4.37256076e+05, 4.38294657e+05, 4.39333238e+05,\n",
       "        4.40371819e+05, 4.41410399e+05, 4.42448980e+05, 4.43487561e+05,\n",
       "        4.44526142e+05, 4.45564723e+05, 4.46603304e+05, 4.47641884e+05,\n",
       "        4.48680465e+05, 4.49719046e+05, 4.50757627e+05, 4.51796208e+05,\n",
       "        4.52834789e+05, 4.53873369e+05, 4.54911950e+05, 4.55950531e+05,\n",
       "        4.56989112e+05, 4.58027693e+05, 4.59066274e+05, 4.60104855e+05,\n",
       "        4.61143435e+05, 4.62182016e+05, 4.63220597e+05, 4.64259178e+05,\n",
       "        4.65297759e+05, 4.66336340e+05, 4.67374920e+05, 4.68413501e+05,\n",
       "        4.69452082e+05, 4.70490663e+05, 4.71529244e+05, 4.72567825e+05,\n",
       "        4.73606405e+05, 4.74644986e+05, 4.75683567e+05, 4.76722148e+05,\n",
       "        4.77760729e+05, 4.78799310e+05, 4.79837890e+05, 4.80876471e+05,\n",
       "        4.81915052e+05, 4.82953633e+05, 4.83992214e+05, 4.85030795e+05,\n",
       "        4.86069376e+05, 4.87107956e+05, 4.88146537e+05, 4.89185118e+05,\n",
       "        4.90223699e+05, 4.91262280e+05, 4.92300861e+05, 4.93339441e+05,\n",
       "        4.94378022e+05, 4.95416603e+05, 4.96455184e+05, 4.97493765e+05,\n",
       "        4.98532346e+05, 4.99570926e+05, 5.00609507e+05, 5.01648088e+05,\n",
       "        5.02686669e+05, 5.03725250e+05, 5.04763831e+05, 5.05802411e+05,\n",
       "        5.06840992e+05, 5.07879573e+05, 5.08918154e+05, 5.09956735e+05,\n",
       "        5.10995316e+05, 5.12033897e+05, 5.13072477e+05, 5.14111058e+05,\n",
       "        5.15149639e+05, 5.16188220e+05, 5.17226801e+05, 5.18265382e+05,\n",
       "        5.19303962e+05]),\n",
       " <a list of 500 Patch objects>)"
      ]
     },
     "execution_count": 40,
     "metadata": {},
     "output_type": "execute_result"
    },
    {
     "data": {
      "image/png": "[encoded data removed]",
      "text/plain": [
       "<Figure size 1296x432 with 1 Axes>"
      ]
     },
     "metadata": {
      "needs_background": "light"
     },
     "output_type": "display_data"
    }
   ],
   "source": [
    "plt.subplots(figsize=(18,6))\n",
    "plt.hist(eigvals,bins=500)"
   ]
  },
  {
   "cell_type": "code",
   "execution_count": null,
   "metadata": {},
   "outputs": [
    {
     "data": {
      "text/plain": [
       "<matplotlib.axes._subplots.AxesSubplot at 0x7f5b83e73908>"
      ]
     },
     "execution_count": 51,
     "metadata": {},
     "output_type": "execute_result"
    }
   ],
   "source": [
    "sns.distplot(eigvals, hist=True, kde=True, \n",
    "             bins=10000)"
   ]
  },
  {
   "cell_type": "code",
   "execution_count": null,
   "metadata": {},
   "outputs": [],
   "source": []
  }
 ],
 "metadata": {
  "kernelspec": {
   "display_name": "Python 3",
   "language": "python",
   "name": "python3"
  },
  "language_info": {
   "codemirror_mode": {
    "name": "ipython",
    "version": 3
   },
   "file_extension": ".py",
   "mimetype": "text/x-python",
   "name": "python",
   "nbconvert_exporter": "python",
   "pygments_lexer": "ipython3",
   "version": "3.7.1"
  }
 },
 "nbformat": 4,
 "nbformat_minor": 2
}
